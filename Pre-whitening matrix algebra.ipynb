{
 "cells": [
  {
   "cell_type": "code",
   "execution_count": 1,
   "metadata": {},
   "outputs": [],
   "source": [
    "import numpy as np\n",
    "import scipy as sp\n",
    "import statsmodels.api as sm\n",
    "\n",
    "import matplotlib.pyplot as plt\n",
    "%matplotlib inline"
   ]
  },
  {
   "cell_type": "markdown",
   "metadata": {},
   "source": [
    "## OLS\n",
    "\n",
    "$Y = X\\beta + \\epsilon$\n",
    "\n",
    "$\\beta = (X'X)^{-1}X'y$\n",
    "\n",
    "$\\epsilon \\sim N(0, \\sigma^2)$"
   ]
  },
  {
   "cell_type": "markdown",
   "metadata": {},
   "source": [
    "\n",
    "## Pre-whitening\n",
    "\n",
    "$\\epsilon \\sim N(0, \\sigma^2 V)$\n",
    "\n",
    "V is not an identity matrix. To fix this, we find a matrix W such that\n",
    "\n",
    "$WVW' = I$\n",
    "\n",
    "Then,\n",
    "\n",
    "$WY = WX\\beta + W\\epsilon$\n",
    "\n",
    "and\n",
    "\n",
    "$Cov(W\\epsilon) = \\sigma^2 WVW' = \\sigma^2 I$"
   ]
  },
  {
   "cell_type": "code",
   "execution_count": 2,
   "metadata": {},
   "outputs": [
    {
     "name": "stdout",
     "output_type": "stream",
     "text": [
      "[-3.79785490e+06 -1.27656454e+01 -3.80013250e-02 -2.18694871e+00\n",
      " -1.15177649e+00 -6.80535580e-02  1.99395293e+03]\n"
     ]
    },
    {
     "name": "stderr",
     "output_type": "stream",
     "text": [
      "/home/stevenm/miniconda3/lib/python3.7/site-packages/ipykernel_launcher.py:14: FutureWarning: `rcond` parameter will change to the default of machine precision times ``max(M, N)`` where M and N are the input matrix dimensions.\n",
      "To use the future default and silence this warning we advise to pass `rcond=None`, to keep using the old, explicitly pass `rcond=-1`.\n",
      "  \n",
      "/home/stevenm/miniconda3/lib/python3.7/site-packages/ipykernel_launcher.py:23: FutureWarning: Support for multi-dimensional indexing (e.g. `obj[:, None]`) is deprecated and will be removed in a future version.  Convert to a numpy array before indexing instead.\n",
      "/home/stevenm/miniconda3/lib/python3.7/site-packages/ipykernel_launcher.py:23: FutureWarning: `rcond` parameter will change to the default of machine precision times ``max(M, N)`` where M and N are the input matrix dimensions.\n",
      "To use the future default and silence this warning we advise to pass `rcond=None`, to keep using the old, explicitly pass `rcond=-1`.\n",
      "/home/stevenm/miniconda3/lib/python3.7/site-packages/ipykernel_launcher.py:37: FutureWarning: `rcond` parameter will change to the default of machine precision times ``max(M, N)`` where M and N are the input matrix dimensions.\n",
      "To use the future default and silence this warning we advise to pass `rcond=None`, to keep using the old, explicitly pass `rcond=-1`.\n",
      "/home/stevenm/miniconda3/lib/python3.7/site-packages/scipy/stats/stats.py:1542: UserWarning: kurtosistest only valid for n>=20 ... continuing anyway, n=16\n",
      "  \"anyway, n=%i\" % int(n))\n"
     ]
    },
    {
     "data": {
      "text/html": [
       "<table class=\"simpletable\">\n",
       "<tr>\n",
       "     <td></td>        <th>coef</th>     <th>std err</th>      <th>t</th>      <th>P>|t|</th>  <th>[0.025</th>    <th>0.975]</th>  \n",
       "</tr>\n",
       "<tr>\n",
       "  <th>const</th>   <td>-3.798e+06</td> <td> 6.71e+05</td> <td>   -5.663</td> <td> 0.000</td> <td>-5.32e+06</td> <td>-2.28e+06</td>\n",
       "</tr>\n",
       "<tr>\n",
       "  <th>GNPDEFL</th> <td>  -12.7656</td> <td>   69.431</td> <td>   -0.184</td> <td> 0.858</td> <td> -169.829</td> <td>  144.298</td>\n",
       "</tr>\n",
       "<tr>\n",
       "  <th>GNP</th>     <td>   -0.0380</td> <td>    0.026</td> <td>   -1.448</td> <td> 0.182</td> <td>   -0.097</td> <td>    0.021</td>\n",
       "</tr>\n",
       "<tr>\n",
       "  <th>UNEMP</th>   <td>   -2.1869</td> <td>    0.382</td> <td>   -5.719</td> <td> 0.000</td> <td>   -3.052</td> <td>   -1.322</td>\n",
       "</tr>\n",
       "<tr>\n",
       "  <th>ARMED</th>   <td>   -1.1518</td> <td>    0.165</td> <td>   -6.970</td> <td> 0.000</td> <td>   -1.526</td> <td>   -0.778</td>\n",
       "</tr>\n",
       "<tr>\n",
       "  <th>POP</th>     <td>   -0.0681</td> <td>    0.176</td> <td>   -0.386</td> <td> 0.709</td> <td>   -0.467</td> <td>    0.331</td>\n",
       "</tr>\n",
       "<tr>\n",
       "  <th>YEAR</th>    <td> 1993.9529</td> <td>  342.635</td> <td>    5.819</td> <td> 0.000</td> <td> 1218.860</td> <td> 2769.046</td>\n",
       "</tr>\n",
       "</table>"
      ],
      "text/plain": [
       "<class 'statsmodels.iolib.table.SimpleTable'>"
      ]
     },
     "execution_count": 2,
     "metadata": {},
     "output_type": "execute_result"
    }
   ],
   "source": [
    "import statsmodels.api as sm\n",
    "import numpy as np\n",
    "import matplotlib.pyplot as plt\n",
    "%matplotlib inline\n",
    "\n",
    "data = sm.datasets.longley.load()\n",
    "data.exog = sm.add_constant(data.exog)\n",
    "\n",
    "# data in X and y\n",
    "X = data.exog\n",
    "y = data.endog\n",
    "\n",
    "# fit initial OLS\n",
    "ols1 = np.linalg.lstsq(X, y)\n",
    "betas1 = ols1[0]\n",
    "\n",
    "# get residuals\n",
    "pred = X.dot(betas1)\n",
    "resid = y - pred\n",
    "#plt.plot(resid)\n",
    "\n",
    "# get AR(1) correlation\n",
    "ols_ar1_resid = np.linalg.lstsq(np.vstack([np.ones(resid[:-1].shape), resid[:-1]]).T, resid[1:,np.newaxis])\n",
    "rho = ols_ar1_resid[0][1]  # so lag1 correlation is -0.3668\n",
    "\n",
    "# make W\n",
    "from scipy.linalg import toeplitz\n",
    "order = toeplitz(np.arange(len(y)))\n",
    "V = rho ** order\n",
    "W = np.linalg.cholesky(np.linalg.pinv(V)).T\n",
    "\n",
    "# ok, now prewhiten\n",
    "y_w = np.dot(W, y)\n",
    "X_w = np.dot(W, X)\n",
    "\n",
    "# and OLS again\n",
    "ols_prew = np.linalg.lstsq(X_w, y_w)\n",
    "print(ols_prew[0])\n",
    "\n",
    "# is this the same as GLS?\n",
    "gls_model = sm.GLS(y, X, sigma=V)\n",
    "gls_res = gls_model.fit()\n",
    "gls_res.summary().tables[1]\n",
    "\n",
    "# the same coefficients"
   ]
  },
  {
   "cell_type": "code",
   "execution_count": 3,
   "metadata": {},
   "outputs": [
    {
     "name": "stderr",
     "output_type": "stream",
     "text": [
      "/home/stevenm/miniconda3/lib/python3.7/site-packages/scipy/stats/stats.py:1542: UserWarning: kurtosistest only valid for n>=20 ... continuing anyway, n=16\n",
      "  \"anyway, n=%i\" % int(n))\n"
     ]
    },
    {
     "data": {
      "text/html": [
       "<table class=\"simpletable\">\n",
       "<caption>GLS Regression Results</caption>\n",
       "<tr>\n",
       "  <th>Dep. Variable:</th>         <td>TOTEMP</td>      <th>  R-squared:         </th> <td>   0.998</td>\n",
       "</tr>\n",
       "<tr>\n",
       "  <th>Model:</th>                   <td>GLS</td>       <th>  Adj. R-squared:    </th> <td>   0.997</td>\n",
       "</tr>\n",
       "<tr>\n",
       "  <th>Method:</th>             <td>Least Squares</td>  <th>  F-statistic:       </th> <td>   724.0</td>\n",
       "</tr>\n",
       "<tr>\n",
       "  <th>Date:</th>             <td>Thu, 17 Feb 2022</td> <th>  Prob (F-statistic):</th> <td>1.48e-11</td>\n",
       "</tr>\n",
       "<tr>\n",
       "  <th>Time:</th>                 <td>14:46:19</td>     <th>  Log-Likelihood:    </th> <td> -107.50</td>\n",
       "</tr>\n",
       "<tr>\n",
       "  <th>No. Observations:</th>      <td>    16</td>      <th>  AIC:               </th> <td>   229.0</td>\n",
       "</tr>\n",
       "<tr>\n",
       "  <th>Df Residuals:</th>          <td>     9</td>      <th>  BIC:               </th> <td>   234.4</td>\n",
       "</tr>\n",
       "<tr>\n",
       "  <th>Df Model:</th>              <td>     6</td>      <th>                     </th>     <td> </td>   \n",
       "</tr>\n",
       "<tr>\n",
       "  <th>Covariance Type:</th>      <td>nonrobust</td>    <th>                     </th>     <td> </td>   \n",
       "</tr>\n",
       "</table>\n",
       "<table class=\"simpletable\">\n",
       "<tr>\n",
       "     <td></td>        <th>coef</th>     <th>std err</th>      <th>t</th>      <th>P>|t|</th>  <th>[0.025</th>    <th>0.975]</th>  \n",
       "</tr>\n",
       "<tr>\n",
       "  <th>const</th>   <td>-3.798e+06</td> <td> 6.71e+05</td> <td>   -5.663</td> <td> 0.000</td> <td>-5.32e+06</td> <td>-2.28e+06</td>\n",
       "</tr>\n",
       "<tr>\n",
       "  <th>GNPDEFL</th> <td>  -12.7656</td> <td>   69.431</td> <td>   -0.184</td> <td> 0.858</td> <td> -169.829</td> <td>  144.298</td>\n",
       "</tr>\n",
       "<tr>\n",
       "  <th>GNP</th>     <td>   -0.0380</td> <td>    0.026</td> <td>   -1.448</td> <td> 0.182</td> <td>   -0.097</td> <td>    0.021</td>\n",
       "</tr>\n",
       "<tr>\n",
       "  <th>UNEMP</th>   <td>   -2.1869</td> <td>    0.382</td> <td>   -5.719</td> <td> 0.000</td> <td>   -3.052</td> <td>   -1.322</td>\n",
       "</tr>\n",
       "<tr>\n",
       "  <th>ARMED</th>   <td>   -1.1518</td> <td>    0.165</td> <td>   -6.970</td> <td> 0.000</td> <td>   -1.526</td> <td>   -0.778</td>\n",
       "</tr>\n",
       "<tr>\n",
       "  <th>POP</th>     <td>   -0.0681</td> <td>    0.176</td> <td>   -0.386</td> <td> 0.709</td> <td>   -0.467</td> <td>    0.331</td>\n",
       "</tr>\n",
       "<tr>\n",
       "  <th>YEAR</th>    <td> 1993.9529</td> <td>  342.635</td> <td>    5.819</td> <td> 0.000</td> <td> 1218.860</td> <td> 2769.046</td>\n",
       "</tr>\n",
       "</table>\n",
       "<table class=\"simpletable\">\n",
       "<tr>\n",
       "  <th>Omnibus:</th>       <td> 1.365</td> <th>  Durbin-Watson:     </th> <td>   2.534</td>\n",
       "</tr>\n",
       "<tr>\n",
       "  <th>Prob(Omnibus):</th> <td> 0.505</td> <th>  Jarque-Bera (JB):  </th> <td>   0.885</td>\n",
       "</tr>\n",
       "<tr>\n",
       "  <th>Skew:</th>          <td> 0.209</td> <th>  Prob(JB):          </th> <td>   0.642</td>\n",
       "</tr>\n",
       "<tr>\n",
       "  <th>Kurtosis:</th>      <td> 1.926</td> <th>  Cond. No.          </th> <td>5.61e+09</td>\n",
       "</tr>\n",
       "</table><br/><br/>Notes:<br/>[1] Standard Errors assume that the covariance matrix of the errors is correctly specified.<br/>[2] The condition number is large, 5.61e+09. This might indicate that there are<br/>strong multicollinearity or other numerical problems."
      ],
      "text/plain": [
       "<class 'statsmodels.iolib.summary.Summary'>\n",
       "\"\"\"\n",
       "                            GLS Regression Results                            \n",
       "==============================================================================\n",
       "Dep. Variable:                 TOTEMP   R-squared:                       0.998\n",
       "Model:                            GLS   Adj. R-squared:                  0.997\n",
       "Method:                 Least Squares   F-statistic:                     724.0\n",
       "Date:                Thu, 17 Feb 2022   Prob (F-statistic):           1.48e-11\n",
       "Time:                        14:46:19   Log-Likelihood:                -107.50\n",
       "No. Observations:                  16   AIC:                             229.0\n",
       "Df Residuals:                       9   BIC:                             234.4\n",
       "Df Model:                           6                                         \n",
       "Covariance Type:            nonrobust                                         \n",
       "==============================================================================\n",
       "                 coef    std err          t      P>|t|      [0.025      0.975]\n",
       "------------------------------------------------------------------------------\n",
       "const      -3.798e+06   6.71e+05     -5.663      0.000   -5.32e+06   -2.28e+06\n",
       "GNPDEFL      -12.7656     69.431     -0.184      0.858    -169.829     144.298\n",
       "GNP           -0.0380      0.026     -1.448      0.182      -0.097       0.021\n",
       "UNEMP         -2.1869      0.382     -5.719      0.000      -3.052      -1.322\n",
       "ARMED         -1.1518      0.165     -6.970      0.000      -1.526      -0.778\n",
       "POP           -0.0681      0.176     -0.386      0.709      -0.467       0.331\n",
       "YEAR        1993.9529    342.635      5.819      0.000    1218.860    2769.046\n",
       "==============================================================================\n",
       "Omnibus:                        1.365   Durbin-Watson:                   2.534\n",
       "Prob(Omnibus):                  0.505   Jarque-Bera (JB):                0.885\n",
       "Skew:                           0.209   Prob(JB):                        0.642\n",
       "Kurtosis:                       1.926   Cond. No.                     5.61e+09\n",
       "==============================================================================\n",
       "\n",
       "Notes:\n",
       "[1] Standard Errors assume that the covariance matrix of the errors is correctly specified.\n",
       "[2] The condition number is large, 5.61e+09. This might indicate that there are\n",
       "strong multicollinearity or other numerical problems.\n",
       "\"\"\""
      ]
     },
     "execution_count": 3,
     "metadata": {},
     "output_type": "execute_result"
    }
   ],
   "source": [
    "gls_res.summary()"
   ]
  },
  {
   "cell_type": "code",
   "execution_count": 4,
   "metadata": {},
   "outputs": [
    {
     "data": {
      "text/plain": [
       "83642.4055506678"
      ]
     },
     "execution_count": 4,
     "metadata": {},
     "output_type": "execute_result"
    },
    {
     "data": {
      "image/png": "[encoded data removed]",
      "text/plain": [
       "<Figure size 432x288 with 1 Axes>"
      ]
     },
     "metadata": {
      "needs_background": "light"
     },
     "output_type": "display_data"
    }
   ],
   "source": [
    "# original OLS residuals\n",
    "plt.acorr(resid)\n",
    "\n",
    "sigma2 = resid.dot(resid) / (len(y_w)-X.shape[1]+1)\n",
    "sigma2"
   ]
  },
  {
   "cell_type": "code",
   "execution_count": 5,
   "metadata": {},
   "outputs": [
    {
     "data": {
      "text/plain": [
       "73286.33930402758"
      ]
     },
     "execution_count": 5,
     "metadata": {},
     "output_type": "execute_result"
    },
    {
     "data": {
      "image/png": "[encoded data removed]",
      "text/plain": [
       "<Figure size 432x288 with 1 Axes>"
      ]
     },
     "metadata": {
      "needs_background": "light"
     },
     "output_type": "display_data"
    }
   ],
   "source": [
    "# Pre-whitened OLS residuals\n",
    "ols_prew_resid = y_w - X_w.dot(ols_prew[0])\n",
    "plt.acorr(ols_prew_resid)\n",
    "\n",
    "#\n",
    "sigma2 = ols_prew_resid.dot(ols_prew_resid) / (len(y_w)-X.shape[1]+1)\n",
    "sigma2  # less than before"
   ]
  },
  {
   "cell_type": "code",
   "execution_count": 6,
   "metadata": {},
   "outputs": [
    {
     "data": {
      "text/plain": [
       "92013.11734226996"
      ]
     },
     "execution_count": 6,
     "metadata": {},
     "output_type": "execute_result"
    },
    {
     "data": {
      "image/png": "[encoded data removed]",
      "text/plain": [
       "<Figure size 432x288 with 1 Axes>"
      ]
     },
     "metadata": {
      "needs_background": "light"
     },
     "output_type": "display_data"
    }
   ],
   "source": [
    "# sigma\n",
    "plt.acorr(gls_res.resid)\n",
    "\n",
    "sigma2 = gls_res.resid.dot(gls_res.resid) / (len(y_w)-X.shape[1]+1)\n",
    "sigma2  # ? way too much?"
   ]
  },
  {
   "cell_type": "code",
   "execution_count": 7,
   "metadata": {},
   "outputs": [
    {
     "data": {
      "text/plain": [
       "73286.33930415465"
      ]
     },
     "execution_count": 7,
     "metadata": {},
     "output_type": "execute_result"
    },
    {
     "data": {
      "image/png": "[encoded data removed]",
      "text/plain": [
       "<Figure size 432x288 with 1 Axes>"
      ]
     },
     "metadata": {
      "needs_background": "light"
     },
     "output_type": "display_data"
    }
   ],
   "source": [
    "# Ksigma\n",
    "K = gls_model.cholsigmainv\n",
    "# K = K.T.dot(K)  # (K'K)\\sigma = sigmaI\n",
    "res_k = K.dot(gls_res.resid)\n",
    "plt.acorr(res_k)\n",
    "\n",
    "sigma2 = res_k.dot(res_k) / (len(y_w)-X.shape[1]+1)\n",
    "sigma2  # this seems in line with the manually prewhitened OLS result,\n",
    "# so we need to get the dotproduct of K and the residuals instead of just the residuals"
   ]
  },
  {
   "cell_type": "code",
   "execution_count": null,
   "metadata": {},
   "outputs": [],
   "source": []
  }
 ],
 "metadata": {
  "kernelspec": {
   "display_name": "Python 3 (ipykernel)",
   "language": "python",
   "name": "python3"
  },
  "language_info": {
   "codemirror_mode": {
    "name": "ipython",
    "version": 3
   },
   "file_extension": ".py",
   "mimetype": "text/x-python",
   "name": "python",
   "nbconvert_exporter": "python",
   "pygments_lexer": "ipython3",
   "version": "3.7.12"
  }
 },
 "nbformat": 4,
 "nbformat_minor": 2
}
